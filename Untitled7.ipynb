{
 "cells": [
  {
   "cell_type": "code",
   "execution_count": 12,
   "id": "640768c5",
   "metadata": {},
   "outputs": [
    {
     "name": "stdout",
     "output_type": "stream",
     "text": [
      "                Country   Rate\n",
      "0            Afghanistan  67.9\n",
      "1                Albania   8.8\n",
      "2                Algeria  24.0\n",
      "3                Andorra   3.3\n",
      "4                 Angola  81.1\n",
      "5    Antigua and Barbuda   7.4\n",
      "6              Argentina  10.4\n",
      "7                Armenia  12.6\n",
      "8              Australia   3.5\n",
      "9                Austria   3.6\n",
      "183        United States   6.6\n",
      "184              Uruguay   8.2\n",
      "185           Uzbekistan  22.5\n",
      "186              Vanuatu  26.9\n",
      "187        Venezuela, RB  30.9\n",
      "188              Vietnam  20.9\n",
      "189   West Bank and Gaza  20.9\n",
      "190          Yemen, Rep.  55.4\n",
      "191               Zambia  60.0\n",
      "192             Zimbabwe  50.3\n"
     ]
    }
   ],
   "source": [
    "# Question 5b\n",
    "\n",
    "import numpy as np\n",
    "import pandas\n",
    "import seaborn as sns\n",
    "import matplotlib.pyplot as plt\n",
    "from scipy import stats\n",
    "\n",
    "mortality_csv = pandas.read_csv('Mortality.csv')\n",
    "print(mortality_csv.iloc[[0,1,2,3,4,5,6,7,8,9,183,184,185,186,187,188,189,190,191,192]])"
   ]
  },
  {
   "cell_type": "code",
   "execution_count": 16,
   "id": "0877899c",
   "metadata": {},
   "outputs": [
    {
     "name": "stdout",
     "output_type": "stream",
     "text": [
      "                     Country    Rate\n",
      "153                  Slovenia    2.1\n",
      "75                    Iceland    2.1\n",
      "144                San Marino    2.2\n",
      "59                    Finland    2.3\n",
      "84                      Japan    2.6\n",
      "128                    Norway    2.6\n",
      "100                Luxembourg    2.6\n",
      "55                    Estonia    2.7\n",
      "44                     Cyprus    2.7\n",
      "165                    Sweden    2.8\n",
      "53          Equatorial Guinea   89.6\n",
      "38           Congo, Dem. Rep.   91.1\n",
      "157               South Sudan   96.4\n",
      "18                      Benin   98.3\n",
      "126                   Nigeria  100.2\n",
      "105                      Mali  106.0\n",
      "150              Sierra Leone  110.5\n",
      "32   Central African Republic  121.5\n",
      "33                       Chad  123.2\n",
      "155                   Somalia  127.2\n"
     ]
    }
   ],
   "source": [
    "# Question 5c\n",
    "\n",
    "sorted_mortality_csv = mortality_csv.sort_values(by=['Rate'])\n",
    "print(sorted_mortality_csv.iloc[[0,1,2,3,4,5,6,7,8,9,183,184,185,186,187,188,189,190,191,192]])"
   ]
  },
  {
   "cell_type": "code",
   "execution_count": 31,
   "id": "3217d256",
   "metadata": {},
   "outputs": [
    {
     "data": {
      "image/png": "[encoded data removed]",
      "text/plain": [
       "<Figure size 432x288 with 1 Axes>"
      ]
     },
     "metadata": {
      "needs_background": "light"
     },
     "output_type": "display_data"
    }
   ],
   "source": [
    "# Question 5d\n",
    "\n",
    "mortality_csv['Rate'].plot(kind='hist', bins=[0, 10, 20, 30, 40, 50, 60, 70, 80, 90, 100, 110, 120, 130])\n",
    "plt.xlabel('Mortality Rate')\n",
    "plt.title('Frequency of Mortality Rates amongst Countries')\n",
    "plt.show()"
   ]
  },
  {
   "cell_type": "code",
   "execution_count": 30,
   "id": "3c713660",
   "metadata": {},
   "outputs": [
    {
     "data": {
      "text/html": [
       "<div>\n",
       "<style scoped>\n",
       "    .dataframe tbody tr th:only-of-type {\n",
       "        vertical-align: middle;\n",
       "    }\n",
       "\n",
       "    .dataframe tbody tr th {\n",
       "        vertical-align: top;\n",
       "    }\n",
       "\n",
       "    .dataframe thead th {\n",
       "        text-align: right;\n",
       "    }\n",
       "</style>\n",
       "<table border=\"1\" class=\"dataframe\">\n",
       "  <thead>\n",
       "    <tr style=\"text-align: right;\">\n",
       "      <th></th>\n",
       "      <th>Rate</th>\n",
       "    </tr>\n",
       "  </thead>\n",
       "  <tbody>\n",
       "    <tr>\n",
       "      <th>count</th>\n",
       "      <td>193.000000</td>\n",
       "    </tr>\n",
       "    <tr>\n",
       "      <th>mean</th>\n",
       "      <td>29.247668</td>\n",
       "    </tr>\n",
       "    <tr>\n",
       "      <th>std</th>\n",
       "      <td>29.248291</td>\n",
       "    </tr>\n",
       "    <tr>\n",
       "      <th>min</th>\n",
       "      <td>2.100000</td>\n",
       "    </tr>\n",
       "    <tr>\n",
       "      <th>25%</th>\n",
       "      <td>7.400000</td>\n",
       "    </tr>\n",
       "    <tr>\n",
       "      <th>50%</th>\n",
       "      <td>16.700000</td>\n",
       "    </tr>\n",
       "    <tr>\n",
       "      <th>75%</th>\n",
       "      <td>45.400000</td>\n",
       "    </tr>\n",
       "    <tr>\n",
       "      <th>max</th>\n",
       "      <td>127.200000</td>\n",
       "    </tr>\n",
       "  </tbody>\n",
       "</table>\n",
       "</div>"
      ],
      "text/plain": [
       "             Rate\n",
       "count  193.000000\n",
       "mean    29.247668\n",
       "std     29.248291\n",
       "min      2.100000\n",
       "25%      7.400000\n",
       "50%     16.700000\n",
       "75%     45.400000\n",
       "max    127.200000"
      ]
     },
     "execution_count": 30,
     "metadata": {},
     "output_type": "execute_result"
    }
   ],
   "source": [
    "# Question 5f\n",
    "\n",
    "mortality_csv.describe()"
   ]
  },
  {
   "cell_type": "code",
   "execution_count": 32,
   "id": "a504da5d",
   "metadata": {},
   "outputs": [
    {
     "data": {
      "image/png": "[encoded data removed]",
      "text/plain": [
       "<Figure size 432x288 with 1 Axes>"
      ]
     },
     "metadata": {},
     "output_type": "display_data"
    }
   ],
   "source": [
    "# Question 4a\n",
    "\n",
    "import matplotlib.pyplot as plt\n",
    "\n",
    "labels = 'Sibling', 'Child', 'Parent', 'Spouse', 'Other Relative', 'Not related'\n",
    "sizes = [30, 19, 13, 11, 8, 19]\n",
    "\n",
    "fig, ax = plt.subplots()\n",
    "ax.pie(sizes, labels=labels, autopct='%1.1f%%',colors=['red', 'lightskyblue', 'green', 'yellow','brown','gray'])\n",
    "plt.title('Organ Donor Relationships')\n",
    "plt.show()"
   ]
  },
  {
   "cell_type": "code",
   "execution_count": null,
   "id": "cdbf7c33",
   "metadata": {},
   "outputs": [],
   "source": []
  }
 ],
 "metadata": {
  "kernelspec": {
   "display_name": "Python 3",
   "language": "python",
   "name": "python3"
  },
  "language_info": {
   "codemirror_mode": {
    "name": "ipython",
    "version": 3
   },
   "file_extension": ".py",
   "mimetype": "text/x-python",
   "name": "python",
   "nbconvert_exporter": "python",
   "pygments_lexer": "ipython3",
   "version": "3.8.8"
  }
 },
 "nbformat": 4,
 "nbformat_minor": 5
}
